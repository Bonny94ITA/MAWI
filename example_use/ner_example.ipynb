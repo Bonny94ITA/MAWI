{
 "cells": [
  {
   "cell_type": "code",
   "execution_count": 2,
   "metadata": {},
   "outputs": [
    {
     "ename": "ModuleNotFoundError",
     "evalue": "No module named 'utils'",
     "output_type": "error",
     "traceback": [
      "\u001b[1;31m---------------------------------------------------------------------------\u001b[0m",
      "\u001b[1;31mModuleNotFoundError\u001b[0m                       Traceback (most recent call last)",
      "\u001b[1;32mc:\\Users\\128525\\Desktop\\Uni\\PointOfInterest\\example_use\\ner_example.ipynb Cella 1\u001b[0m in \u001b[0;36m<cell line: 4>\u001b[1;34m()\u001b[0m\n\u001b[0;32m      <a href='vscode-notebook-cell:/c%3A/Users/128525/Desktop/Uni/PointOfInterest/example_use/ner_example.ipynb#W0sZmlsZQ%3D%3D?line=1'>2</a>\u001b[0m \u001b[39mimport\u001b[39;00m \u001b[39mspacy\u001b[39;00m\n\u001b[0;32m      <a href='vscode-notebook-cell:/c%3A/Users/128525/Desktop/Uni/PointOfInterest/example_use/ner_example.ipynb#W0sZmlsZQ%3D%3D?line=2'>3</a>\u001b[0m \u001b[39mfrom\u001b[39;00m \u001b[39mspacy\u001b[39;00m \u001b[39mimport\u001b[39;00m displacy\n\u001b[1;32m----> <a href='vscode-notebook-cell:/c%3A/Users/128525/Desktop/Uni/PointOfInterest/example_use/ner_example.ipynb#W0sZmlsZQ%3D%3D?line=3'>4</a>\u001b[0m \u001b[39mfrom\u001b[39;00m \u001b[39mutils\u001b[39;00m\u001b[39m.\u001b[39;00m\u001b[39mutils\u001b[39;00m \u001b[39mimport\u001b[39;00m count_occurrences, get_entities, search_with_google, wiki_content\n\u001b[0;32m      <a href='vscode-notebook-cell:/c%3A/Users/128525/Desktop/Uni/PointOfInterest/example_use/ner_example.ipynb#W0sZmlsZQ%3D%3D?line=4'>5</a>\u001b[0m \u001b[39mimport\u001b[39;00m \u001b[39mjson\u001b[39;00m\n\u001b[0;32m      <a href='vscode-notebook-cell:/c%3A/Users/128525/Desktop/Uni/PointOfInterest/example_use/ner_example.ipynb#W0sZmlsZQ%3D%3D?line=6'>7</a>\u001b[0m nlp \u001b[39m=\u001b[39m spacy\u001b[39m.\u001b[39mload(\u001b[39m'\u001b[39m\u001b[39mit_core_news_sm\u001b[39m\u001b[39m'\u001b[39m)\n",
      "\u001b[1;31mModuleNotFoundError\u001b[0m: No module named 'utils'"
     ]
    }
   ],
   "source": [
    "from asyncore import read\n",
    "import spacy\n",
    "from spacy import displacy\n",
    "from utils.utils import count_occurrences, get_entities, search_with_google, wiki_content\n",
    "import json\n",
    "\n",
    "nlp = spacy.load('it_core_news_sm')\n",
    "\n",
    "with open(f'assets/test_sentences.txt', 'r', encoding='utf-8') as f:\n",
    "    text = f.read() \n",
    "\n",
    "doc = nlp(text)\n",
    "displacy.render(doc, style=\"ent\", jupyter=True)"
   ]
  },
  {
   "cell_type": "code",
   "execution_count": 2,
   "metadata": {},
   "outputs": [
    {
     "name": "stdout",
     "output_type": "stream",
     "text": [
      "Torino\n",
      "['Novecento', 'Italia', 'Ottocento', 'Novecento.', 'Impresa Porcheddu', 'Esposizione generale italiana', 'Borgo Medievale', 'Vetreria Albano&Macario', 'Terrazza Solferino', 'Mobilificio Torinese F. Cesare Gandolfo', 'Albergo Rocciamelone di', 'Francia', 'Villino Raby', 'Casa Fenoglio-Lafleur', 'Casa Rossi-Galateri', 'Passalacqua', 'Casa Girardi', 'Cibrario 54.', 'Crocetta', 'Casa Maffei']\n",
      "https://google.it/search?q=Novecento+Torino&hl=it\n",
      "Address:  None\n",
      "Activity:  None\n",
      "https://google.it/search?q=Italia+Torino&hl=it\n",
      "Address:  None\n",
      "Activity:  None\n",
      "https://google.it/search?q=Ottocento+Torino&hl=it\n",
      "Address:  None\n",
      "Activity:  None\n",
      "https://google.it/search?q=Novecento.+Torino&hl=it\n",
      "Address:  None\n",
      "Activity:  None\n",
      "https://google.it/search?q=Impresa+Porcheddu+Torino&hl=it\n",
      "Address:  None\n",
      "Activity:  None\n",
      "https://google.it/search?q=Esposizione+generale+italiana+Torino&hl=it\n",
      "Address:  None\n",
      "Activity:  None\n",
      "https://google.it/search?q=Borgo+Medievale+Torino&hl=it\n",
      "Address:  None\n",
      "Activity:  None\n",
      "https://google.it/search?q=Vetreria+Albano%26Macario+Torino&hl=it\n",
      "Address:  None\n",
      "Activity:  None\n",
      "https://google.it/search?q=Terrazza+Solferino+Torino&hl=it\n",
      "Address:  None\n",
      "Activity:  None\n",
      "https://google.it/search?q=Mobilificio+Torinese+F.+Cesare+Gandolfo+Torino&hl=it\n",
      "Address:  None\n",
      "Activity:  None\n",
      "https://google.it/search?q=Albergo+Rocciamelone+di+Torino&hl=it\n",
      "Address:  None\n",
      "Activity:  None\n",
      "https://google.it/search?q=Francia+Torino&hl=it\n",
      "Address:  None\n",
      "Activity:  None\n",
      "https://google.it/search?q=Villino+Raby+Torino&hl=it\n",
      "Address:  None\n",
      "Activity:  None\n",
      "https://google.it/search?q=Casa+Fenoglio-Lafleur+Torino&hl=it\n",
      "Address:  None\n",
      "Activity:  None\n",
      "https://google.it/search?q=Casa+Rossi-Galateri+Torino&hl=it\n",
      "Address:  None\n",
      "Activity:  None\n",
      "https://google.it/search?q=Passalacqua+Torino&hl=it\n",
      "Address:  None\n",
      "Activity:  None\n",
      "https://google.it/search?q=Casa+Girardi+Torino&hl=it\n",
      "Address:  None\n",
      "Activity:  None\n",
      "https://google.it/search?q=Cibrario+54.+Torino&hl=it\n",
      "Address:  None\n",
      "Activity:  None\n",
      "https://google.it/search?q=Crocetta+Torino&hl=it\n",
      "Address:  None\n",
      "Activity:  None\n",
      "https://google.it/search?q=Casa+Maffei+Torino&hl=it\n",
      "Address:  None\n",
      "Activity:  None\n"
     ]
    }
   ],
   "source": [
    "sentence_list = list(doc.sents) \n",
    "\n",
    "# Opening JSON file\n",
    "f = open('./assets/italian_cities.json')\n",
    "italian_cities = json.load(f)\n",
    "f.close()\n",
    "# Count occurrences\n",
    "counter = count_occurrences(doc, italian_cities, \"name\")  \n",
    "\n",
    "# Max occurrence\n",
    "context = max(counter, key=counter.get) \n",
    "print(context)\n",
    "\n",
    "# Get entities without duplicates\n",
    "searchable_entities = get_entities(doc, counter)\n",
    "\n",
    "print(searchable_entities)\n",
    "#print(searchable_entities)\n",
    "\n",
    "# Search addresses with Google\n",
    "search_with_google(searchable_entities, context)"
   ]
  },
  {
   "cell_type": "code",
   "execution_count": 3,
   "metadata": {},
   "outputs": [
    {
     "name": "stdout",
     "output_type": "stream",
     "text": [
      "Non-GPE locations, mountain ranges, bodies of water\n"
     ]
    }
   ],
   "source": [
    "print(spacy.explain(\"LOC\"))"
   ]
  },
  {
   "cell_type": "code",
   "execution_count": 4,
   "metadata": {},
   "outputs": [
    {
     "name": "stdout",
     "output_type": "stream",
     "text": [
      "Cappella della Sacra Sindone, SP47, Cavagnole, Ingria, Torino, Piemonte, Italia\n",
      "(45.473878600000006, 7.576911650000007)\n",
      "{'place_id': 154035094, 'licence': 'Data © OpenStreetMap contributors, ODbL 1.0. https://osm.org/copyright', 'osm_type': 'way', 'osm_id': 205596953, 'boundingbox': ['45.4738219', '45.4739353', '7.5768294', '7.5769939'], 'lat': '45.473878600000006', 'lon': '7.576911650000007', 'display_name': 'Cappella della Sacra Sindone, SP47, Cavagnole, Ingria, Torino, Piemonte, Italia', 'class': 'amenity', 'type': 'place_of_worship', 'importance': 0.4001, 'icon': 'https://nominatim.openstreetmap.org/ui/mapicons/place_of_worship_unknown3.p.20.png', 'geojson': {'type': 'Polygon', 'coordinates': [[[7.5768294, 45.4738777], [7.5768966, 45.4738219], [7.5769939, 45.4738795], [7.5769267, 45.4739353], [7.5768294, 45.4738777]]]}}\n"
     ]
    }
   ],
   "source": [
    "from geopy.geocoders import Nominatim\n",
    "\n",
    "geolocator = Nominatim(user_agent=\"PoI_geocoder\")\n",
    "\n",
    "location = geolocator.geocode(\"Cappella della Sacra Sindone\", exactly_one = False, geometry=\"geojson\" )\n",
    "\n",
    "#print(location)\n",
    "for loc in location: \n",
    "    print(loc.address)\n",
    "    #Flatiron Building, 175, 5th Avenue, Flatiron, New York, NYC, New York, ...\n",
    "    print((loc.latitude, loc.longitude))\n",
    "    #(40.7410861, -73.9896297241625)\n",
    "    print(loc.raw)\n",
    "    #{'place_id': '9167009604', 'type': 'attraction', ...}"
   ]
  }
 ],
 "metadata": {
  "interpreter": {
   "hash": "17f6057f19fd601e680b310ee2ebe0fee3e78679207250b2f4d8f20eb0597a02"
  },
  "kernelspec": {
   "display_name": "Python 3.9.9 64-bit",
   "language": "python",
   "name": "python3"
  },
  "language_info": {
   "codemirror_mode": {
    "name": "ipython",
    "version": 3
   },
   "file_extension": ".py",
   "mimetype": "text/x-python",
   "name": "python",
   "nbconvert_exporter": "python",
   "pygments_lexer": "ipython3",
   "version": "3.9.9"
  },
  "orig_nbformat": 4
 },
 "nbformat": 4,
 "nbformat_minor": 2
}
