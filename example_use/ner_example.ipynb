{
 "cells": [
  {
   "cell_type": "code",
   "execution_count": 2,
   "metadata": {},
   "outputs": [
    {
     "ename": "FileNotFoundError",
     "evalue": "[Errno 2] No such file or directory: 'assets/test_sentences.txt'",
     "output_type": "error",
     "traceback": [
      "\u001b[1;31m---------------------------------------------------------------------------\u001b[0m",
      "\u001b[1;31mFileNotFoundError\u001b[0m                         Traceback (most recent call last)",
      "\u001b[1;32mc:\\Users\\128525\\Desktop\\Uni\\PointOfInterest\\example_use\\ner_example.ipynb Cella 1\u001b[0m in \u001b[0;36m<cell line: 9>\u001b[1;34m()\u001b[0m\n\u001b[0;32m      <a href='vscode-notebook-cell:/c%3A/Users/128525/Desktop/Uni/PointOfInterest/example_use/ner_example.ipynb#W0sZmlsZQ%3D%3D?line=4'>5</a>\u001b[0m \u001b[39mimport\u001b[39;00m \u001b[39mjson\u001b[39;00m\n\u001b[0;32m      <a href='vscode-notebook-cell:/c%3A/Users/128525/Desktop/Uni/PointOfInterest/example_use/ner_example.ipynb#W0sZmlsZQ%3D%3D?line=6'>7</a>\u001b[0m nlp \u001b[39m=\u001b[39m spacy\u001b[39m.\u001b[39mload(\u001b[39m'\u001b[39m\u001b[39mit_core_news_sm\u001b[39m\u001b[39m'\u001b[39m)\n\u001b[1;32m----> <a href='vscode-notebook-cell:/c%3A/Users/128525/Desktop/Uni/PointOfInterest/example_use/ner_example.ipynb#W0sZmlsZQ%3D%3D?line=8'>9</a>\u001b[0m \u001b[39mwith\u001b[39;00m \u001b[39mopen\u001b[39;49m(\u001b[39mf\u001b[39;49m\u001b[39m'\u001b[39;49m\u001b[39massets/test_sentences.txt\u001b[39;49m\u001b[39m'\u001b[39;49m, \u001b[39m'\u001b[39;49m\u001b[39mr\u001b[39;49m\u001b[39m'\u001b[39;49m, encoding\u001b[39m=\u001b[39;49m\u001b[39m'\u001b[39;49m\u001b[39mutf-8\u001b[39;49m\u001b[39m'\u001b[39;49m) \u001b[39mas\u001b[39;00m f:\n\u001b[0;32m     <a href='vscode-notebook-cell:/c%3A/Users/128525/Desktop/Uni/PointOfInterest/example_use/ner_example.ipynb#W0sZmlsZQ%3D%3D?line=9'>10</a>\u001b[0m     text \u001b[39m=\u001b[39m f\u001b[39m.\u001b[39mread() \n\u001b[0;32m     <a href='vscode-notebook-cell:/c%3A/Users/128525/Desktop/Uni/PointOfInterest/example_use/ner_example.ipynb#W0sZmlsZQ%3D%3D?line=11'>12</a>\u001b[0m doc \u001b[39m=\u001b[39m nlp(text)\n",
      "\u001b[1;31mFileNotFoundError\u001b[0m: [Errno 2] No such file or directory: 'assets/test_sentences.txt'"
     ]
    }
   ],
   "source": [
    "from asyncore import read\n",
    "import spacy\n",
    "from spacy import displacy\n",
    "#from utils.utils import count_occurrences, get_entities, search_with_google, wiki_content\n",
    "import json\n",
    "\n",
    "nlp = spacy.load('it_core_news_sm')\n",
    "\n",
    "with open(f'assets/test_sentences.txt', 'r', encoding='utf-8') as f:\n",
    "    text = f.read() \n",
    "\n",
    "doc = nlp(text)\n",
    "displacy.render(doc, style=\"ent\", jupyter=True)"
   ]
  },
  {
   "cell_type": "code",
   "execution_count": 2,
   "metadata": {},
   "outputs": [
    {
     "name": "stdout",
     "output_type": "stream",
     "text": [
      "Torino\n",
      "['Novecento', 'Italia', 'Ottocento', 'Novecento.', 'Impresa Porcheddu', 'Esposizione generale italiana', 'Borgo Medievale', 'Vetreria Albano&Macario', 'Terrazza Solferino', 'Mobilificio Torinese F. Cesare Gandolfo', 'Albergo Rocciamelone di', 'Francia', 'Villino Raby', 'Casa Fenoglio-Lafleur', 'Casa Rossi-Galateri', 'Passalacqua', 'Casa Girardi', 'Cibrario 54.', 'Crocetta', 'Casa Maffei']\n",
      "https://google.it/search?q=Novecento+Torino&hl=it\n",
      "Address:  None\n",
      "Activity:  None\n",
      "https://google.it/search?q=Italia+Torino&hl=it\n",
      "Address:  None\n",
      "Activity:  None\n",
      "https://google.it/search?q=Ottocento+Torino&hl=it\n",
      "Address:  None\n",
      "Activity:  None\n",
      "https://google.it/search?q=Novecento.+Torino&hl=it\n",
      "Address:  None\n",
      "Activity:  None\n",
      "https://google.it/search?q=Impresa+Porcheddu+Torino&hl=it\n",
      "Address:  None\n",
      "Activity:  None\n",
      "https://google.it/search?q=Esposizione+generale+italiana+Torino&hl=it\n",
      "Address:  None\n",
      "Activity:  None\n",
      "https://google.it/search?q=Borgo+Medievale+Torino&hl=it\n",
      "Address:  None\n",
      "Activity:  None\n",
      "https://google.it/search?q=Vetreria+Albano%26Macario+Torino&hl=it\n",
      "Address:  None\n",
      "Activity:  None\n",
      "https://google.it/search?q=Terrazza+Solferino+Torino&hl=it\n",
      "Address:  None\n",
      "Activity:  None\n",
      "https://google.it/search?q=Mobilificio+Torinese+F.+Cesare+Gandolfo+Torino&hl=it\n",
      "Address:  None\n",
      "Activity:  None\n",
      "https://google.it/search?q=Albergo+Rocciamelone+di+Torino&hl=it\n",
      "Address:  None\n",
      "Activity:  None\n",
      "https://google.it/search?q=Francia+Torino&hl=it\n",
      "Address:  None\n",
      "Activity:  None\n",
      "https://google.it/search?q=Villino+Raby+Torino&hl=it\n",
      "Address:  None\n",
      "Activity:  None\n",
      "https://google.it/search?q=Casa+Fenoglio-Lafleur+Torino&hl=it\n",
      "Address:  None\n",
      "Activity:  None\n",
      "https://google.it/search?q=Casa+Rossi-Galateri+Torino&hl=it\n",
      "Address:  None\n",
      "Activity:  None\n",
      "https://google.it/search?q=Passalacqua+Torino&hl=it\n",
      "Address:  None\n",
      "Activity:  None\n",
      "https://google.it/search?q=Casa+Girardi+Torino&hl=it\n",
      "Address:  None\n",
      "Activity:  None\n",
      "https://google.it/search?q=Cibrario+54.+Torino&hl=it\n",
      "Address:  None\n",
      "Activity:  None\n",
      "https://google.it/search?q=Crocetta+Torino&hl=it\n",
      "Address:  None\n",
      "Activity:  None\n",
      "https://google.it/search?q=Casa+Maffei+Torino&hl=it\n",
      "Address:  None\n",
      "Activity:  None\n"
     ]
    }
   ],
   "source": [
    "sentence_list = list(doc.sents) \n",
    "\n",
    "# Opening JSON file\n",
    "f = open('./assets/italian_cities.json')\n",
    "italian_cities = json.load(f)\n",
    "f.close()\n",
    "# Count occurrences\n",
    "counter = count_occurrences(doc, italian_cities, \"name\")  \n",
    "\n",
    "# Max occurrence\n",
    "context = max(counter, key=counter.get) \n",
    "print(context)\n",
    "\n",
    "# Get entities without duplicates\n",
    "searchable_entities = get_entities(doc, counter)\n",
    "\n",
    "print(searchable_entities)\n",
    "#print(searchable_entities)\n",
    "\n",
    "# Search addresses with Google\n",
    "search_with_google(searchable_entities, context)"
   ]
  },
  {
   "cell_type": "code",
   "execution_count": 3,
   "metadata": {},
   "outputs": [
    {
     "name": "stdout",
     "output_type": "stream",
     "text": [
      "Non-GPE locations, mountain ranges, bodies of water\n",
      "adposition\n",
      "flat multiword expression\n"
     ]
    }
   ],
   "source": [
    "print(spacy.explain(\"LOC\"))\n",
    "print(spacy.explain(\"ADP\"))\n",
    "print(spacy.explain(\"flat\"))\n",
    "print(spacy.ex)"
   ]
  },
  {
   "cell_type": "code",
   "execution_count": 26,
   "metadata": {},
   "outputs": [
    {
     "name": "stdout",
     "output_type": "stream",
     "text": [
      "RESULTS:  [Location(Chiesa Della Salute, Via Breglio, Borgo Vittoria, Circoscrizione 5, Torino, Piemonte, 10147, Italia, (45.0989972, 7.6796077, 0.0))]\n",
      "Chiesa Della Salute, Via Breglio, Borgo Vittoria, Circoscrizione 5, Torino, Piemonte, 10147, Italia\n",
      "(45.0989972, 7.6796077)\n",
      "45 5m 56.3899s N, 7 40m 46.5877s E\n",
      "{'place_id': 12472809, 'licence': 'Data © OpenStreetMap contributors, ODbL 1.0. https://osm.org/copyright', 'osm_type': 'node', 'osm_id': 1262193690, 'boundingbox': ['45.0989472', '45.0990472', '7.6795577', '7.6796577'], 'lat': '45.0989972', 'lon': '7.6796077', 'display_name': 'Chiesa Della Salute, Via Breglio, Borgo Vittoria, Circoscrizione 5, Torino, Piemonte, 10147, Italia', 'class': 'highway', 'type': 'bus_stop', 'importance': 0.30010000000000003, 'icon': 'https://nominatim.openstreetmap.org/ui/mapicons/transport_bus_stop2.p.20.png'}\n",
      "None\n",
      "[]\n"
     ]
    }
   ],
   "source": [
    "from geopy.geocoders import Nominatim\n",
    "\n",
    "geolocator = Nominatim(user_agent=\"PoI_geocoder\")\n",
    "\n",
    "location = geolocator.geocode(\"Chiesa della Salute\", exactly_one = False)\n",
    "\n",
    "print(\"RESULTS: \", location)\n",
    "for loc in location: \n",
    "    print(loc.address)\n",
    "    #Flatiron Building, 175, 5th Avenue, Flatiron, New York, NYC, New York, ...\n",
    "    print((loc.latitude, loc.longitude))\n",
    "    print(loc.point)\n",
    "    #(40.7410861, -73.9896297241625)\n",
    "    print(loc.raw)\n",
    "    #{'place_id': '9167009604', 'type': 'attraction', ...}\n",
    "\n",
    "\n",
    "import geocoder\n",
    "g = geocoder.google('Torino')\n",
    "print(g.latlng)\n",
    "\n",
    "\n",
    "import requests\n",
    "url = 'https://maps.googleapis.com/maps/api/geocode/json'\n",
    "params = {'sensor': 'false', 'address': 'Mountain View, CA'}\n",
    "r = requests.get(url, params=params)\n",
    "results = r.json()['results']\n",
    "print(results)\n",
    "#location = results[0]['geometry']['location']\n",
    "#print(location['lat'], location['lng'])"
   ]
  },
  {
   "cell_type": "code",
   "execution_count": 1,
   "metadata": {},
   "outputs": [
    {
     "name": "stdout",
     "output_type": "stream",
     "text": [
      "nomi:  ['tok2vec', 'morphologizer', 'tagger', 'parser', 'attribute_ruler', 'lemmatizer']\n",
      "nomi:  ['tok2vec', 'morphologizer', 'tagger', 'parser', 'attribute_ruler', 'lemmatizer', 'trf_ita', 'ner_ita']\n"
     ]
    },
    {
     "data": {
      "text/html": [
       "<span class=\"tex2jax_ignore\"><div class=\"entities\" style=\"line-height: 2.5; direction: ltr\">\n",
       "<mark class=\"entity\" style=\"background: #9cc9cc; padding: 0.45em 0.6em; margin: 0 0.25em; line-height: 1; border-radius: 0.35em;\">\n",
       "    Via Sibilla Aleramo 1\n",
       "    <span style=\"font-size: 0.8em; font-weight: bold; line-height: 1; border-radius: 0.35em; vertical-align: middle; margin-left: 0.5rem\">FAC</span>\n",
       "</mark>\n",
       " ,\n",
       "<mark class=\"entity\" style=\"background: #feca74; padding: 0.45em 0.6em; margin: 0 0.25em; line-height: 1; border-radius: 0.35em;\">\n",
       "    Torino\n",
       "    <span style=\"font-size: 0.8em; font-weight: bold; line-height: 1; border-radius: 0.35em; vertical-align: middle; margin-left: 0.5rem\">GPE</span>\n",
       "</mark>\n",
       ".</div></span>"
      ],
      "text/plain": [
       "<IPython.core.display.HTML object>"
      ]
     },
     "metadata": {},
     "output_type": "display_data"
    },
    {
     "data": {
      "text/html": [
       "<span class=\"tex2jax_ignore\"><svg xmlns=\"http://www.w3.org/2000/svg\" xmlns:xlink=\"http://www.w3.org/1999/xlink\" xml:lang=\"it\" id=\"770fa1ebb8884ce1b95f8e33b5392d68-0\" class=\"displacy\" width=\"925\" height=\"312.0\" direction=\"ltr\" style=\"max-width: none; height: 312.0px; color: #000000; background: #ffffff; font-family: Arial; direction: ltr\">\n",
       "<text class=\"displacy-token\" fill=\"currentColor\" text-anchor=\"middle\" y=\"222.0\">\n",
       "    <tspan class=\"displacy-word\" fill=\"currentColor\" x=\"50\">Via</tspan>\n",
       "    <tspan class=\"displacy-tag\" dy=\"2em\" fill=\"currentColor\" x=\"50\">NOUN</tspan>\n",
       "</text>\n",
       "\n",
       "<text class=\"displacy-token\" fill=\"currentColor\" text-anchor=\"middle\" y=\"222.0\">\n",
       "    <tspan class=\"displacy-word\" fill=\"currentColor\" x=\"225\">Sibilla</tspan>\n",
       "    <tspan class=\"displacy-tag\" dy=\"2em\" fill=\"currentColor\" x=\"225\">PROPN</tspan>\n",
       "</text>\n",
       "\n",
       "<text class=\"displacy-token\" fill=\"currentColor\" text-anchor=\"middle\" y=\"222.0\">\n",
       "    <tspan class=\"displacy-word\" fill=\"currentColor\" x=\"400\">Aleramo</tspan>\n",
       "    <tspan class=\"displacy-tag\" dy=\"2em\" fill=\"currentColor\" x=\"400\">PROPN</tspan>\n",
       "</text>\n",
       "\n",
       "<text class=\"displacy-token\" fill=\"currentColor\" text-anchor=\"middle\" y=\"222.0\">\n",
       "    <tspan class=\"displacy-word\" fill=\"currentColor\" x=\"575\">1 ,</tspan>\n",
       "    <tspan class=\"displacy-tag\" dy=\"2em\" fill=\"currentColor\" x=\"575\">NUM</tspan>\n",
       "</text>\n",
       "\n",
       "<text class=\"displacy-token\" fill=\"currentColor\" text-anchor=\"middle\" y=\"222.0\">\n",
       "    <tspan class=\"displacy-word\" fill=\"currentColor\" x=\"750\">Torino.</tspan>\n",
       "    <tspan class=\"displacy-tag\" dy=\"2em\" fill=\"currentColor\" x=\"750\">PROPN</tspan>\n",
       "</text>\n",
       "\n",
       "<g class=\"displacy-arrow\">\n",
       "    <path class=\"displacy-arc\" id=\"arrow-770fa1ebb8884ce1b95f8e33b5392d68-0-0\" stroke-width=\"2px\" d=\"M70,177.0 C70,2.0 400.0,2.0 400.0,177.0\" fill=\"none\" stroke=\"currentColor\"/>\n",
       "    <text dy=\"1.25em\" style=\"font-size: 0.8em; letter-spacing: 1px\">\n",
       "        <textPath xlink:href=\"#arrow-770fa1ebb8884ce1b95f8e33b5392d68-0-0\" class=\"displacy-label\" startOffset=\"50%\" side=\"left\" fill=\"currentColor\" text-anchor=\"middle\">nsubj</textPath>\n",
       "    </text>\n",
       "    <path class=\"displacy-arrowhead\" d=\"M70,179.0 L62,167.0 78,167.0\" fill=\"currentColor\"/>\n",
       "</g>\n",
       "\n",
       "<g class=\"displacy-arrow\">\n",
       "    <path class=\"displacy-arc\" id=\"arrow-770fa1ebb8884ce1b95f8e33b5392d68-0-1\" stroke-width=\"2px\" d=\"M70,177.0 C70,89.5 220.0,89.5 220.0,177.0\" fill=\"none\" stroke=\"currentColor\"/>\n",
       "    <text dy=\"1.25em\" style=\"font-size: 0.8em; letter-spacing: 1px\">\n",
       "        <textPath xlink:href=\"#arrow-770fa1ebb8884ce1b95f8e33b5392d68-0-1\" class=\"displacy-label\" startOffset=\"50%\" side=\"left\" fill=\"currentColor\" text-anchor=\"middle\">nmod</textPath>\n",
       "    </text>\n",
       "    <path class=\"displacy-arrowhead\" d=\"M220.0,179.0 L228.0,167.0 212.0,167.0\" fill=\"currentColor\"/>\n",
       "</g>\n",
       "\n",
       "<g class=\"displacy-arrow\">\n",
       "    <path class=\"displacy-arc\" id=\"arrow-770fa1ebb8884ce1b95f8e33b5392d68-0-2\" stroke-width=\"2px\" d=\"M420,177.0 C420,89.5 570.0,89.5 570.0,177.0\" fill=\"none\" stroke=\"currentColor\"/>\n",
       "    <text dy=\"1.25em\" style=\"font-size: 0.8em; letter-spacing: 1px\">\n",
       "        <textPath xlink:href=\"#arrow-770fa1ebb8884ce1b95f8e33b5392d68-0-2\" class=\"displacy-label\" startOffset=\"50%\" side=\"left\" fill=\"currentColor\" text-anchor=\"middle\">nummod</textPath>\n",
       "    </text>\n",
       "    <path class=\"displacy-arrowhead\" d=\"M570.0,179.0 L578.0,167.0 562.0,167.0\" fill=\"currentColor\"/>\n",
       "</g>\n",
       "\n",
       "<g class=\"displacy-arrow\">\n",
       "    <path class=\"displacy-arc\" id=\"arrow-770fa1ebb8884ce1b95f8e33b5392d68-0-3\" stroke-width=\"2px\" d=\"M420,177.0 C420,2.0 750.0,2.0 750.0,177.0\" fill=\"none\" stroke=\"currentColor\"/>\n",
       "    <text dy=\"1.25em\" style=\"font-size: 0.8em; letter-spacing: 1px\">\n",
       "        <textPath xlink:href=\"#arrow-770fa1ebb8884ce1b95f8e33b5392d68-0-3\" class=\"displacy-label\" startOffset=\"50%\" side=\"left\" fill=\"currentColor\" text-anchor=\"middle\">obj</textPath>\n",
       "    </text>\n",
       "    <path class=\"displacy-arrowhead\" d=\"M750.0,179.0 L758.0,167.0 742.0,167.0\" fill=\"currentColor\"/>\n",
       "</g>\n",
       "</svg></span>"
      ],
      "text/plain": [
       "<IPython.core.display.HTML object>"
      ]
     },
     "metadata": {},
     "output_type": "display_data"
    },
    {
     "name": "stdout",
     "output_type": "stream",
     "text": [
      "Via Sibilla Aleramo 1 FAC\n",
      "Torino GPE\n"
     ]
    }
   ],
   "source": [
    "import spacy\n",
    "from spacy import displacy\n",
    "from spacy.tokens import Doc\n",
    "\n",
    "nlp = spacy.load('it_core_news_sm', exclude=[\"ner\"])\n",
    "ner_ita = spacy.load('it_nerIta_trf')\n",
    "\n",
    "print(\"nomi: \", nlp.pipe_names)\n",
    "# give this component a copy of its own tok2vec\n",
    "#ner_ita.replace_listeners(\"tok2vec\", \"ner\", [\"model.tok2vec\"])\n",
    "\n",
    "# now you can put the drug component before or after the other ner\n",
    "# This will print a W113 warning but it's safe to ignore here\n",
    "nlp.add_pipe(\"transformer\", name=\"trf_ita\", source=ner_ita, last=True)\n",
    "\n",
    "nlp.add_pipe(\"ner\", name=\"ner_ita\", source=ner_ita, last=True)\n",
    "\n",
    "print(\"nomi: \", nlp.pipe_names)\n",
    "\n",
    "#sentence = \"All'interno del perimetro cittadino figurano cinque siti iscritti nella lista del Patrimonio Mondiale dell'UNESCO: Palazzo Reale e la zona di comando (o musei reali); Palazzo Madama; Palazzo Carignano; Castello del Valentino; Villa della Regina\"                        \n",
    "#sentence = \"Inoltre, i comuni di cintura dell'area urbana e metropolitana cittadina possiedono un sistema bibliotecario integrato denominato SBAM (Sistema Bibliotecario Area Metropolitana) composto di 65 biblioteche per un totale di circa 1.700.000 documenti.\\\n",
    "#L'Archivio di Stato di Torino custodisce i documenti della corte e dell'amministrazione sabauda, sin dall'epoca medievale.\"\n",
    "#sentence = \"Attorno alla città, ad anello, vi sono il Parco della Mandria e il Parco della Palazzina di caccia di Stupinigi, antiche riserve di caccia dei Savoia, e quelli situati sulla collina torinese quali il Parco della Rimembranza o il Parco Europa.\"\n",
    "#sentence = \" Fra i teatri maggiori, con una capienza superiore a 400 posti, vi sono il Teatro Regio, in cui si tenne la prima de La bohème di Puccini, il Teatro Carignano, il Teatro Alfieri e il Teatro Colosseo; importante, poi, è il Teatro Gobetti, sede principale del sopracitato teatro stabile cittadino.\"\n",
    "#sentence = \"Torino sorge nella pianura delimitata dai fiumi Stura di Lanzo, Sangone e Po (quest'ultimo attraversa la città da sud verso nord), di fronte allo sbocco di alcune vallate alpine: Val di Susa, che collega la città con la vicina Francia attraverso il Traforo del Frejus, Valli di Lanzo, Val Sangone. \"\n",
    "#sentence = \"Le collezioni di arte antica, la cui raccolta fu iniziata dal duca Emanuele Filiberto di Savoia nella seconda metà del Cinquecento, sono conservate nel Museo di antichità, che raccoglie anche le principali testimonianze archeologiche piemontesi dal Paleolitico al Tardo Medioevo.\"\n",
    "#sentence = \"A Torino hanno inoltre sede la Fondazione europea per la formazione professionale (ETF), una delle agenzie dell'Unione europea, e l'Autorità di regolazione dei trasporti (ART), autorità indipendente italiana.\"\n",
    "#sentence = \"A causa delle imponenti opere di pianificazione urbana effettuate a partire dal XVI secolo da parte della corte sabauda, Torino ha conservato pochi monumenti appartenenti all'epoca medioevale e rinascimentale. Tra questi si possono annoverare: Palazzo Madama e Casaforte degli Acaja, il cui corpo centrale fu costruito fra i secoli XIII e XV in stile gotico ampliando e inglobando la struttura dell'originale Porta Decumana d'epoca romana e conferendo al palazzo l'aspetto di un castello, che verrà completato nei secoli successivi con la facciata settecentesca dello Juvarra; Chiesa di San Domenico, situata nell'omonima via; fu edificata nel XIV secolo e rappresenta l'unico monumento completo autenticamente medioevale dell'intera città, pur se modificata in epoca barocca e riportata successivamente alle originali forme gotiche tramite restauri conservativi ottocenteschi; Duomo; edificato fra il 1491 e il 1498, costituisce l'unico esempio di luogo di culto in stile rinascimentale della città; campanili romanici della basilica della Consolata (risalente al X secolo), del Duomo (quattrocentesco, poi completato nel XVIII secolo dallo Juvarra) e della chiesa di Sant'Agostino (XV secolo); Casa dei Romagnano, resti medievali in via dei Mercanti 9; Casa del Senato, in piazza IV Marzo 17; Casa del Pingone, in via IV Marzo; casa con torre medievale (mascherata), già residenza di Filiberto Pingone, storico che nel 1577 scrisse la prima storia di Torino, intitolata Augusta Taurinorum; Casa Broglia; Palazzo Scaglia di Verrua (XV secolo); Mastio della Cittadella, unico edificio superstite del complesso sistema difensivo torinese, edificato a partire dal 1564 in uno stile a cavallo fra quello rinascimentale e quello barocco.\"\n",
    "#sentence = \"L'ammontare delle precipitazioni annue, 833 mm, si è conservata sostanzialmente immutata dalla metà dell'Ottocento a oggi. \"\n",
    "#sentence = \"La rete di trasporti di Torino è gestita dal GTT, acronimo di Gruppo Torinese Trasporti , nato nel 2003 dalla fusione di ATM e SATTI .\"\n",
    "#sentence = \"Altre sale teatrali minori comprendono l'Alfa Teatro\"\n",
    "#sentence = \"Erano inoltre presenti in Torino i cimiteri, ora non più in uso: # - Cimitero Monumentale (già Cimitero Generale): sito in Corso Novara, 135 (quartiere Regio Parco), è il primo cimitero di Torino per dimensioni; contiene anche un Tempio Crematorio e un Cimitero giudaico; vi sono numerosi monumenti funebri di personaggi famosi e di pregevole fattura;\\\n",
    "# - il Cimitero Parco (detto anche \\\"cimitero del Gerbido\\\"): costruito nel 1972 nella zona all'estremo sud di Torino, è il secondo cimitero di Torino per dimensioni;\\\n",
    "# - un Cimitero di Mirafiori: piccolo cimitero sito in corso Unione Sovietica 650, nella zona Sud di Torino;\\\n",
    "# - il Cimitero di Sassi: sito nell'omonima strada al n. 24;\\\n",
    "# - il Cimitero di Cavoretto: sito nell'omonimo borgo collinare;\\\n",
    "# - il Cimitero di Abbadia di Stura: sito in Strada di Settimo 307, nella zona nord. #\"\n",
    "#sentence = \"Un colpo all'italiana . Un gruppo di ladri inglesi arriva a Torino a bordo di tre Mini Cooper per organizzare una rapina ai danni di un convoglio che trasporta i ricavi della FIAT dall' Aeroporto di Torino-Caselle fino alla città.\"\n",
    "#sentence = \"Nel suo territorio sono inoltre presenti aree ed edifici inclusi in due beni protetti dall' UNESCO :\\\n",
    "#     alcuni palazzi e zone facenti parte del circuito di residenze sabaude in Piemonte ( patrimonio dell'umanità ) \\\n",
    "#        e l'area delle colline del Po ( riserva della biosfera ). Città dalla storia bimillenaria, fu fondata probabilmente\\\n",
    "#             nei pressi della posizione attuale, attorno al III secolo a.C. , dai Taurini , quindi trasformata in \\\n",
    "#                colonia romana da Augusto col nome di Iulia Augusta Taurinorum nel I secolo a.C. . \\\n",
    "#                    Dopo il dominio ostrogoto , fu capitale di un importante ducato longobardo , \\\n",
    "#                        per poi passare, dopo essere divenuta capitale di marca carolingia , \\\n",
    "#                            sotto la signoria nominale dei Savoia nell' XI secolo . \\\n",
    "#                                Città dell' omonimo ducato , nel 1563 ne divenne capitale.\"\n",
    "#sentence = \"Abitanti censiti (migliaia) Al  1º gennaio 2021 risiedevano a Torino 128 238 stranieri, costituenti il 14,9% della popolazione totale. Di seguito sono riportati i gruppi più consistenti : # ^ Romania , 44 383 ; ^ Marocco , 15 427 ; ^ Cina , 8 195 ; ^ Perù , 7 120 ; ^ Nigeria , 5 532 ; ^ Egitto , 5 405 ; ^ Albania , 5 061 ; ^ Filippine ,3 708 ; ^ Moldavia , 3 069 ; ^ Bangladesh , 2 120 .\"\n",
    "#sentence = \"Vi sono quattro musei nazionali (Museo del cinema, Museo dell'automobile, Museo della montagna, Museo del Risorgimento) e numerosi altri musei di rilevanza nazionale ed internazionale come il Museo egizio, l'Armeria Reale, ora ricompresa nei Musei Reali, il Museo d'Arte Orientale, il Museo dell'Astronomia e Planetario, il J-Museum a cui si aggiungeva, fino al 2015, il Museo dello sport. \"\n",
    "#sentence = \" Da ricordare il Museo dell'astronomia e Planetario di Torino , che sorge accanto dell'Osservatorio astronomico di Torino a Pino Torinese , cittadina collinare nei pressi immediati del capoluogo piemontese. \"\n",
    "sentence = \"Via Sibilla Aleramo 1 ,Torino.\"\n",
    "doc_ner = nlp(sentence)\n",
    "\n",
    "#displacy.render(doc, style=\"dep\", jupyter=True)\n",
    "\n",
    "displacy.render(doc_ner, style=\"ent\", jupyter=True)\n",
    "displacy.render(doc_ner, style=\"dep\", jupyter=True)\n",
    "\n",
    "entities = doc_ner.ents\n",
    "for entity in entities:\n",
    "    print(entity.text, entity.label_)\n",
    "#sentences = list(doc.sents)\n",
    "\n",
    "#for sentence in sentences:\n",
    "#    print(\"Frasi\", sentence.text)\n",
    "\n",
    "#sentence = sentences[0]\n",
    "\n",
    "#doc = nlp(sentence)\n",
    "#for token in doc:\n",
    "#    print(token.text, token.pos_, token.dep_)\n",
    "#displacy.render(doc, style=\"ent\", jupyter=True)\n",
    "#displacy.render(doc, style=\"dep\", jupyter=True)\n",
    "                "
   ]
  },
  {
   "cell_type": "code",
   "execution_count": 21,
   "metadata": {},
   "outputs": [
    {
     "name": "stdout",
     "output_type": "stream",
     "text": [
      "La chiesa della Misericordia è una delle chiese di Torino, sita in via Barbaroux 41. È dedicata a san Giovanni Battista (era detta anche \"chiesa di San Giovanni Decollato\"). Deve il nome alla Arciconfraternita della Misericordia, che nel XVIII secolo ne prese possesso e la ristrutturò, così nominata poiché i suoi membri avevano il compito di confortare i condannati a morte, accompagnarli al patibolo, curarne le successive esequie e far celebrare messe in suffragio delle loro anime.\n"
     ]
    }
   ],
   "source": [
    "import wikipedia\n",
    "wikipedia.set_lang(\"it\")\n",
    "\n",
    "#wikipedia.summary(\"Torino\")\n",
    "try:\n",
    "    to = wikipedia.page(\"Chiesa della Misericordia (Torino)\", preload=False)\n",
    "except wikipedia.exceptions.DisambiguationError as e:\n",
    "    print(e.options)\n",
    "    print(e.options[0])\n",
    "    to = wikipedia.page(e.options[0], preload=False)\n",
    "    print(to.summary)\n",
    "    #to = wikipedia.page(e.options[0], preload=False)\n",
    "#wikipedia.categories(\"Torino\")\n",
    "#to.categories\n",
    "print(to.summary)"
   ]
  },
  {
   "cell_type": "code",
   "execution_count": null,
   "metadata": {},
   "outputs": [],
   "source": []
  }
 ],
 "metadata": {
  "interpreter": {
   "hash": "17f6057f19fd601e680b310ee2ebe0fee3e78679207250b2f4d8f20eb0597a02"
  },
  "kernelspec": {
   "display_name": "Python 3.9.9 64-bit",
   "language": "python",
   "name": "python3"
  },
  "language_info": {
   "codemirror_mode": {
    "name": "ipython",
    "version": 3
   },
   "file_extension": ".py",
   "mimetype": "text/x-python",
   "name": "python",
   "nbconvert_exporter": "python",
   "pygments_lexer": "ipython3",
   "version": "3.9.9"
  },
  "orig_nbformat": 4
 },
 "nbformat": 4,
 "nbformat_minor": 2
}
