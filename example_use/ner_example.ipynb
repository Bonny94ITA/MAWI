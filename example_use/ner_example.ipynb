{
 "cells": [
  {
   "cell_type": "code",
   "execution_count": 2,
   "metadata": {},
   "outputs": [
    {
     "ename": "ModuleNotFoundError",
     "evalue": "No module named 'utils'",
     "output_type": "error",
     "traceback": [
      "\u001b[1;31m---------------------------------------------------------------------------\u001b[0m",
      "\u001b[1;31mModuleNotFoundError\u001b[0m                       Traceback (most recent call last)",
      "\u001b[1;32mc:\\Users\\128525\\Desktop\\Uni\\PointOfInterest\\example_use\\ner_example.ipynb Cella 1\u001b[0m in \u001b[0;36m<cell line: 4>\u001b[1;34m()\u001b[0m\n\u001b[0;32m      <a href='vscode-notebook-cell:/c%3A/Users/128525/Desktop/Uni/PointOfInterest/example_use/ner_example.ipynb#W0sZmlsZQ%3D%3D?line=1'>2</a>\u001b[0m \u001b[39mimport\u001b[39;00m \u001b[39mspacy\u001b[39;00m\n\u001b[0;32m      <a href='vscode-notebook-cell:/c%3A/Users/128525/Desktop/Uni/PointOfInterest/example_use/ner_example.ipynb#W0sZmlsZQ%3D%3D?line=2'>3</a>\u001b[0m \u001b[39mfrom\u001b[39;00m \u001b[39mspacy\u001b[39;00m \u001b[39mimport\u001b[39;00m displacy\n\u001b[1;32m----> <a href='vscode-notebook-cell:/c%3A/Users/128525/Desktop/Uni/PointOfInterest/example_use/ner_example.ipynb#W0sZmlsZQ%3D%3D?line=3'>4</a>\u001b[0m \u001b[39mfrom\u001b[39;00m \u001b[39mutils\u001b[39;00m\u001b[39m.\u001b[39;00m\u001b[39mutils\u001b[39;00m \u001b[39mimport\u001b[39;00m count_occurrences, get_entities, search_with_google, wiki_content\n\u001b[0;32m      <a href='vscode-notebook-cell:/c%3A/Users/128525/Desktop/Uni/PointOfInterest/example_use/ner_example.ipynb#W0sZmlsZQ%3D%3D?line=4'>5</a>\u001b[0m \u001b[39mimport\u001b[39;00m \u001b[39mjson\u001b[39;00m\n\u001b[0;32m      <a href='vscode-notebook-cell:/c%3A/Users/128525/Desktop/Uni/PointOfInterest/example_use/ner_example.ipynb#W0sZmlsZQ%3D%3D?line=6'>7</a>\u001b[0m nlp \u001b[39m=\u001b[39m spacy\u001b[39m.\u001b[39mload(\u001b[39m'\u001b[39m\u001b[39mit_core_news_sm\u001b[39m\u001b[39m'\u001b[39m)\n",
      "\u001b[1;31mModuleNotFoundError\u001b[0m: No module named 'utils'"
     ]
    }
   ],
   "source": [
    "from asyncore import read\n",
    "import spacy\n",
    "from spacy import displacy\n",
    "from utils.utils import count_occurrences, get_entities, search_with_google, wiki_content\n",
    "import json\n",
    "\n",
    "nlp = spacy.load('it_core_news_sm')\n",
    "\n",
    "with open(f'assets/test_sentences.txt', 'r', encoding='utf-8') as f:\n",
    "    text = f.read() \n",
    "\n",
    "doc = nlp(text)\n",
    "displacy.render(doc, style=\"ent\", jupyter=True)"
   ]
  },
  {
   "cell_type": "code",
   "execution_count": 2,
   "metadata": {},
   "outputs": [
    {
     "name": "stdout",
     "output_type": "stream",
     "text": [
      "Torino\n",
      "['Novecento', 'Italia', 'Ottocento', 'Novecento.', 'Impresa Porcheddu', 'Esposizione generale italiana', 'Borgo Medievale', 'Vetreria Albano&Macario', 'Terrazza Solferino', 'Mobilificio Torinese F. Cesare Gandolfo', 'Albergo Rocciamelone di', 'Francia', 'Villino Raby', 'Casa Fenoglio-Lafleur', 'Casa Rossi-Galateri', 'Passalacqua', 'Casa Girardi', 'Cibrario 54.', 'Crocetta', 'Casa Maffei']\n",
      "https://google.it/search?q=Novecento+Torino&hl=it\n",
      "Address:  None\n",
      "Activity:  None\n",
      "https://google.it/search?q=Italia+Torino&hl=it\n",
      "Address:  None\n",
      "Activity:  None\n",
      "https://google.it/search?q=Ottocento+Torino&hl=it\n",
      "Address:  None\n",
      "Activity:  None\n",
      "https://google.it/search?q=Novecento.+Torino&hl=it\n",
      "Address:  None\n",
      "Activity:  None\n",
      "https://google.it/search?q=Impresa+Porcheddu+Torino&hl=it\n",
      "Address:  None\n",
      "Activity:  None\n",
      "https://google.it/search?q=Esposizione+generale+italiana+Torino&hl=it\n",
      "Address:  None\n",
      "Activity:  None\n",
      "https://google.it/search?q=Borgo+Medievale+Torino&hl=it\n",
      "Address:  None\n",
      "Activity:  None\n",
      "https://google.it/search?q=Vetreria+Albano%26Macario+Torino&hl=it\n",
      "Address:  None\n",
      "Activity:  None\n",
      "https://google.it/search?q=Terrazza+Solferino+Torino&hl=it\n",
      "Address:  None\n",
      "Activity:  None\n",
      "https://google.it/search?q=Mobilificio+Torinese+F.+Cesare+Gandolfo+Torino&hl=it\n",
      "Address:  None\n",
      "Activity:  None\n",
      "https://google.it/search?q=Albergo+Rocciamelone+di+Torino&hl=it\n",
      "Address:  None\n",
      "Activity:  None\n",
      "https://google.it/search?q=Francia+Torino&hl=it\n",
      "Address:  None\n",
      "Activity:  None\n",
      "https://google.it/search?q=Villino+Raby+Torino&hl=it\n",
      "Address:  None\n",
      "Activity:  None\n",
      "https://google.it/search?q=Casa+Fenoglio-Lafleur+Torino&hl=it\n",
      "Address:  None\n",
      "Activity:  None\n",
      "https://google.it/search?q=Casa+Rossi-Galateri+Torino&hl=it\n",
      "Address:  None\n",
      "Activity:  None\n",
      "https://google.it/search?q=Passalacqua+Torino&hl=it\n",
      "Address:  None\n",
      "Activity:  None\n",
      "https://google.it/search?q=Casa+Girardi+Torino&hl=it\n",
      "Address:  None\n",
      "Activity:  None\n",
      "https://google.it/search?q=Cibrario+54.+Torino&hl=it\n",
      "Address:  None\n",
      "Activity:  None\n",
      "https://google.it/search?q=Crocetta+Torino&hl=it\n",
      "Address:  None\n",
      "Activity:  None\n",
      "https://google.it/search?q=Casa+Maffei+Torino&hl=it\n",
      "Address:  None\n",
      "Activity:  None\n"
     ]
    }
   ],
   "source": [
    "sentence_list = list(doc.sents) \n",
    "\n",
    "# Opening JSON file\n",
    "f = open('./assets/italian_cities.json')\n",
    "italian_cities = json.load(f)\n",
    "f.close()\n",
    "# Count occurrences\n",
    "counter = count_occurrences(doc, italian_cities, \"name\")  \n",
    "\n",
    "# Max occurrence\n",
    "context = max(counter, key=counter.get) \n",
    "print(context)\n",
    "\n",
    "# Get entities without duplicates\n",
    "searchable_entities = get_entities(doc, counter)\n",
    "\n",
    "print(searchable_entities)\n",
    "#print(searchable_entities)\n",
    "\n",
    "# Search addresses with Google\n",
    "search_with_google(searchable_entities, context)"
   ]
  },
  {
   "cell_type": "code",
   "execution_count": 3,
   "metadata": {},
   "outputs": [
    {
     "name": "stdout",
     "output_type": "stream",
     "text": [
      "Non-GPE locations, mountain ranges, bodies of water\n"
     ]
    }
   ],
   "source": [
    "print(spacy.explain(\"LOC\"))"
   ]
  },
  {
   "cell_type": "code",
   "execution_count": 14,
   "metadata": {},
   "outputs": [
    {
     "name": "stdout",
     "output_type": "stream",
     "text": [
      "[Location(address, 914, Luis Matte Larraín, Colón Oriente, Las Condes, Provincia de Santiago, Región Metropolitana de Santiago, 7570936, Chile, (-33.4133043, -70.530626, 0.0)), Location(address, Calicut-Malappuram-Palakkad Road, Mannarkkad, Mannarkad, Palakkad, Kerala, 678582, India, (10.9904358, 76.4542795, 0.0)), Location(address, 1824, Flatbush Avenue, Flatlands, Brooklyn, Kings County, City of New York, New York, 11210, United States, (40.6254079, -73.9400639, 0.0)), Location(Address, Endymion Road, Harringay Warehouse District, Harringay, London Borough of Haringey, London, Greater London, England, N4 1EQ, United Kingdom, (51.575646, -0.0986474, 0.0)), Location(Address, 12-14, Weinmeisterstraße, Scheunenviertel, Mitte, Berlin, 10178, Deutschland, (52.5254012, 13.4054681, 0.0)), Location(Address, 62D, Pacific Street, Roslyn, Dunedin, Dunedin City, Otago, 9010, New Zealand / Aotearoa, (-45.8656237, 170.4980842, 0.0)), Location(Address, Tuborg Havnepark, Hellerup, Gentofte Kommune, Region Hovedstaden, 2150, Danmark, (55.7259303, 12.5864534, 0.0)), Location(ADDRESS, Red Cross Road, Palayam, Kozhikode, Kozhikode district, Kerala, 673032, India, (11.256374, 75.7742648, 0.0)), Location(Address, 2530, Larkin Road, Boothwyn, Delaware County, Pennsylvania, 19061, United States, (39.8391892, -75.4637774, 0.0)), Location(Address, 1615, North Country Club Road, Life Church, Payne County, Oklahoma, 74076, United States, (36.1382563, -97.1226521, 0.0))]\n",
      "address, 914, Luis Matte Larraín, Colón Oriente, Las Condes, Provincia de Santiago, Región Metropolitana de Santiago, 7570936, Chile\n",
      "(-33.4133043, -70.530626)\n",
      "{'place_id': 41761749, 'licence': 'Data © OpenStreetMap contributors, ODbL 1.0. https://osm.org/copyright', 'osm_type': 'node', 'osm_id': 3264587761, 'boundingbox': ['-33.4133543', '-33.4132543', '-70.530676', '-70.530576'], 'lat': '-33.4133043', 'lon': '-70.530626', 'display_name': 'address, 914, Luis Matte Larraín, Colón Oriente, Las Condes, Provincia de Santiago, Región Metropolitana de Santiago, 7570936, Chile', 'class': 'place', 'type': 'house', 'importance': 0.11010000000000002}\n",
      "address, Calicut-Malappuram-Palakkad Road, Mannarkkad, Mannarkad, Palakkad, Kerala, 678582, India\n",
      "(10.9904358, 76.4542795)\n",
      "{'place_id': 77514351, 'licence': 'Data © OpenStreetMap contributors, ODbL 1.0. https://osm.org/copyright', 'osm_type': 'node', 'osm_id': 7388424374, 'boundingbox': ['10.9903858', '10.9904858', '76.4542295', '76.4543295'], 'lat': '10.9904358', 'lon': '76.4542795', 'display_name': 'address, Calicut-Malappuram-Palakkad Road, Mannarkkad, Mannarkad, Palakkad, Kerala, 678582, India', 'class': 'shop', 'type': 'clothes', 'importance': 0.11010000000000002, 'icon': 'https://nominatim.openstreetmap.org/ui/mapicons/shopping_clothes.p.20.png'}\n",
      "address, 1824, Flatbush Avenue, Flatlands, Brooklyn, Kings County, City of New York, New York, 11210, United States\n",
      "(40.6254079, -73.9400639)\n",
      "{'place_id': 52815347, 'licence': 'Data © OpenStreetMap contributors, ODbL 1.0. https://osm.org/copyright', 'osm_type': 'node', 'osm_id': 4635978152, 'boundingbox': ['40.6253579', '40.6254579', '-73.9401139', '-73.9400139'], 'lat': '40.6254079', 'lon': '-73.9400639', 'display_name': 'address, 1824, Flatbush Avenue, Flatlands, Brooklyn, Kings County, City of New York, New York, 11210, United States', 'class': 'place', 'type': 'house', 'importance': 0.11000999999999997}\n",
      "Address, Endymion Road, Harringay Warehouse District, Harringay, London Borough of Haringey, London, Greater London, England, N4 1EQ, United Kingdom\n",
      "(51.575646, -0.0986474)\n",
      "{'place_id': 20332624, 'licence': 'Data © OpenStreetMap contributors, ODbL 1.0. https://osm.org/copyright', 'osm_type': 'node', 'osm_id': 2323323208, 'boundingbox': ['51.575596', '51.575696', '-0.0986974', '-0.0985974'], 'lat': '51.575646', 'lon': '-0.0986474', 'display_name': 'Address, Endymion Road, Harringay Warehouse District, Harringay, London Borough of Haringey, London, Greater London, England, N4 1EQ, United Kingdom', 'class': 'shop', 'type': 'hairdresser', 'importance': 0.10010000000000001, 'icon': 'https://nominatim.openstreetmap.org/ui/mapicons/shopping_hairdresser.p.20.png'}\n",
      "Address, 12-14, Weinmeisterstraße, Scheunenviertel, Mitte, Berlin, 10178, Deutschland\n",
      "(52.5254012, 13.4054681)\n",
      "{'place_id': 60846502, 'licence': 'Data © OpenStreetMap contributors, ODbL 1.0. https://osm.org/copyright', 'osm_type': 'node', 'osm_id': 5597962229, 'boundingbox': ['52.5253512', '52.5254512', '13.4054181', '13.4055181'], 'lat': '52.5254012', 'lon': '13.4054681', 'display_name': 'Address, 12-14, Weinmeisterstraße, Scheunenviertel, Mitte, Berlin, 10178, Deutschland', 'class': 'shop', 'type': 'clothes', 'importance': 0.10010000000000001, 'icon': 'https://nominatim.openstreetmap.org/ui/mapicons/shopping_clothes.p.20.png'}\n",
      "Address, 62D, Pacific Street, Roslyn, Dunedin, Dunedin City, Otago, 9010, New Zealand / Aotearoa\n",
      "(-45.8656237, 170.4980842)\n",
      "{'place_id': 338015902, 'licence': 'Data © OpenStreetMap contributors, ODbL 1.0. https://osm.org/copyright', 'osm_type': 'node', 'osm_id': 9894458683, 'boundingbox': ['-45.8656737', '-45.8655737', '170.4980342', '170.4981342'], 'lat': '-45.8656237', 'lon': '170.4980842', 'display_name': 'Address, 62D, Pacific Street, Roslyn, Dunedin, Dunedin City, Otago, 9010, New Zealand / Aotearoa', 'class': 'place', 'type': 'house', 'importance': 0.10010000000000001}\n",
      "Address, Tuborg Havnepark, Hellerup, Gentofte Kommune, Region Hovedstaden, 2150, Danmark\n",
      "(55.7259303, 12.5864534)\n",
      "{'place_id': 13551897, 'licence': 'Data © OpenStreetMap contributors, ODbL 1.0. https://osm.org/copyright', 'osm_type': 'node', 'osm_id': 1351197303, 'boundingbox': ['55.7258803', '55.7259803', '12.5864034', '12.5865034'], 'lat': '55.7259303', 'lon': '12.5864534', 'display_name': 'Address, Tuborg Havnepark, Hellerup, Gentofte Kommune, Region Hovedstaden, 2150, Danmark', 'class': 'amenity', 'type': 'restaurant', 'importance': 0.10010000000000001, 'icon': 'https://nominatim.openstreetmap.org/ui/mapicons/food_restaurant.p.20.png'}\n",
      "ADDRESS, Red Cross Road, Palayam, Kozhikode, Kozhikode district, Kerala, 673032, India\n",
      "(11.256374, 75.7742648)\n",
      "{'place_id': 98863520, 'licence': 'Data © OpenStreetMap contributors, ODbL 1.0. https://osm.org/copyright', 'osm_type': 'node', 'osm_id': 9790941273, 'boundingbox': ['11.256324', '11.256424', '75.7742148', '75.7743148'], 'lat': '11.256374', 'lon': '75.7742648', 'display_name': 'ADDRESS, Red Cross Road, Palayam, Kozhikode, Kozhikode district, Kerala, 673032, India', 'class': 'shop', 'type': 'clothes', 'importance': 0.10010000000000001, 'icon': 'https://nominatim.openstreetmap.org/ui/mapicons/shopping_clothes.p.20.png'}\n",
      "Address, 2530, Larkin Road, Boothwyn, Delaware County, Pennsylvania, 19061, United States\n",
      "(39.8391892, -75.4637774)\n",
      "{'place_id': 52591068, 'licence': 'Data © OpenStreetMap contributors, ODbL 1.0. https://osm.org/copyright', 'osm_type': 'node', 'osm_id': 4582183411, 'boundingbox': ['39.8391392', '39.8392392', '-75.4638274', '-75.4637274'], 'lat': '39.8391892', 'lon': '-75.4637774', 'display_name': 'Address, 2530, Larkin Road, Boothwyn, Delaware County, Pennsylvania, 19061, United States', 'class': 'place', 'type': 'house', 'importance': 0.10010000000000001}\n",
      "Address, 1615, North Country Club Road, Life Church, Payne County, Oklahoma, 74076, United States\n",
      "(36.1382563, -97.1226521)\n",
      "{'place_id': 53231828, 'licence': 'Data © OpenStreetMap contributors, ODbL 1.0. https://osm.org/copyright', 'osm_type': 'node', 'osm_id': 4702468262, 'boundingbox': ['36.1382063', '36.1383063', '-97.1227021', '-97.1226021'], 'lat': '36.1382563', 'lon': '-97.1226521', 'display_name': 'Address, 1615, North Country Club Road, Life Church, Payne County, Oklahoma, 74076, United States', 'class': 'place', 'type': 'house', 'importance': 0.10010000000000001}\n"
     ]
    }
   ],
   "source": [
    "from geopy.geocoders import Nominatim\n",
    "\n",
    "geolocator = Nominatim(user_agent=\"PoI_geocoder\")\n",
    "\n",
    "location = geolocator.geocode(\"address\", exactly_one = False)\n",
    "\n",
    "print(location)\n",
    "for loc in location: \n",
    "    print(loc.address)\n",
    "    #Flatiron Building, 175, 5th Avenue, Flatiron, New York, NYC, New York, ...\n",
    "    print((loc.latitude, loc.longitude))\n",
    "    #(40.7410861, -73.9896297241625)\n",
    "    print(loc.raw)\n",
    "    #{'place_id': '9167009604', 'type': 'attraction', ...}"
   ]
  }
 ],
 "metadata": {
  "interpreter": {
   "hash": "17f6057f19fd601e680b310ee2ebe0fee3e78679207250b2f4d8f20eb0597a02"
  },
  "kernelspec": {
   "display_name": "Python 3.9.9 64-bit",
   "language": "python",
   "name": "python3"
  },
  "language_info": {
   "codemirror_mode": {
    "name": "ipython",
    "version": 3
   },
   "file_extension": ".py",
   "mimetype": "text/x-python",
   "name": "python",
   "nbconvert_exporter": "python",
   "pygments_lexer": "ipython3",
   "version": "3.9.9"
  },
  "orig_nbformat": 4
 },
 "nbformat": 4,
 "nbformat_minor": 2
}
