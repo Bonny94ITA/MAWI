{
 "cells": [
  {
   "cell_type": "code",
   "execution_count": 1,
   "metadata": {},
   "outputs": [],
   "source": [
    "import spacy\n",
    "from geopy.geocoders import Nominatim\n",
    "from geojson import FeatureCollection\n",
    "import json"
   ]
  },
  {
   "cell_type": "code",
   "execution_count": 3,
   "metadata": {},
   "outputs": [
    {
     "data": {
      "text/plain": [
       "['Mole Antonelliana', 'il Museo nazionale del Cinema', 'il Palazzo Reale']"
      ]
     },
     "execution_count": 3,
     "metadata": {},
     "output_type": "execute_result"
    }
   ],
   "source": [
    "sentence = \"Tra i monumenti di Torino più noti anche all'estero sono da citare l'ottocentesca Mole Antonelliana, \\\n",
    "    simbolo incontrastato della città, che ospita il Museo nazionale del Cinema; il Palazzo Reale (antica dimora dei duchi ed in seguito dei re di Casa Savoia);\"\n",
    "\n",
    "nlp = spacy.load('it_core_news_sm', exclude=[\"ner\"])\n",
    "ner_ita = spacy.load('it_nerIta_trf')\n",
    "\n",
    "nlp.add_pipe(\"transformer\", name=\"trf_ita\", source=ner_ita, last=True)\n",
    "nlp.add_pipe(\"ner\", name=\"ner_ita\", source=ner_ita, last=True)\n",
    "\n",
    "doc = nlp(sentence)\n",
    "\n",
    "locs = []\n",
    "labels = ['LOC', 'FAC']\n",
    "for ent in doc.ents:\n",
    "    if ent.label_ in labels :\n",
    "        locs.append(ent.text)\n",
    "\n",
    "locs"
   ]
  },
  {
   "cell_type": "code",
   "execution_count": 4,
   "metadata": {},
   "outputs": [
    {
     "name": "stdout",
     "output_type": "stream",
     "text": [
      "Tra i monumenti di Torino più noti anche all'estero sono da citare l'ottocentesca Mole Antonelliana,     simbolo incontrastato della città, che ospita il Museo nazionale del Cinema;\n",
      "Mole Antonelliana\n",
      "(7.693191847163605, 45.06898875)\n",
      "Tra i monumenti di Torino più noti anche all'estero sono da citare l'ottocentesca Mole Antonelliana,     simbolo incontrastato della città, che ospita il Museo nazionale del Cinema;\n",
      "Museo nazionale del Cinema\n",
      "(7.6929702, 45.0691058)\n",
      "il Palazzo Reale (antica dimora dei duchi ed in seguito dei re di Casa Savoia);\n",
      "Palazzo Reale\n",
      "(7.686963196696155, 45.073053349999995)\n"
     ]
    }
   ],
   "source": [
    "geocoder = Nominatim(user_agent=\"myGeocoder\")\n",
    "\n",
    "sents = list(doc.sents)\n",
    "features = []\n",
    "\n",
    "for loc in locs:\n",
    "    sent = [sentence.text for sentence in sents if loc in sentence.text][0]\n",
    "    print(sent)\n",
    "    loc = loc.replace(\"il \", \"\")\n",
    "    print(loc)\n",
    "    res = geocoder.geocode({\"street\": loc, \"city\": \"Torino\", \"state\": \"Piemonte\"}, language='it', exactly_one=True)\n",
    "    print((res.longitude, res.latitude))\n",
    "\n",
    "    loc_feature = Feature(\n",
    "        geometry=Point((res.longitude, res.latitude)),\n",
    "        properties={\n",
    "            \"entity\": loc,\n",
    "            \"name_location\": res.address,\n",
    "            \"class\": res.raw['class'],\n",
    "            \"type\": res.raw['type'],\n",
    "            \"snippet\": sent\n",
    "        }\n",
    "    )\n",
    "    features.append(loc_feature)\n",
    "\n"
   ]
  },
  {
   "cell_type": "code",
   "execution_count": 5,
   "metadata": {},
   "outputs": [
    {
     "name": "stdout",
     "output_type": "stream",
     "text": [
      "The result complete has been saved as a file inside the response folder\n"
     ]
    }
   ],
   "source": [
    "fc = FeatureCollection(features)\n",
    "\n",
    "with open('res/paper.geojson', 'w', encoding='utf-8') as f:\n",
    "    json.dump(fc, f, ensure_ascii=False, indent=4)\n",
    "    print(\"The result complete has been saved as a file inside the response folder\")"
   ]
  },
  {
   "cell_type": "markdown",
   "metadata": {},
   "source": []
  }
 ],
 "metadata": {
  "interpreter": {
   "hash": "17f6057f19fd601e680b310ee2ebe0fee3e78679207250b2f4d8f20eb0597a02"
  },
  "kernelspec": {
   "display_name": "Python 3.9.9 64-bit",
   "language": "python",
   "name": "python3"
  },
  "language_info": {
   "codemirror_mode": {
    "name": "ipython",
    "version": 3
   },
   "file_extension": ".py",
   "mimetype": "text/x-python",
   "name": "python",
   "nbconvert_exporter": "python",
   "pygments_lexer": "ipython3",
   "version": "3.9.9"
  },
  "orig_nbformat": 4
 },
 "nbformat": 4,
 "nbformat_minor": 2
}
