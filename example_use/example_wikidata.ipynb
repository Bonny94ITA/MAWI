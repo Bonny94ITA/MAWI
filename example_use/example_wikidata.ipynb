{
 "cells": [
  {
   "cell_type": "code",
   "execution_count": 1,
   "metadata": {},
   "outputs": [
    {
     "data": {
      "text/plain": [
       "<wikidata.entity.Entity Q495 'Turin'>"
      ]
     },
     "execution_count": 1,
     "metadata": {},
     "output_type": "execute_result"
    }
   ],
   "source": [
    "from wikidata.client import Client\n",
    "\n",
    "client = Client()\n",
    "\n",
    "client.request\n",
    "entity = client.get('Q495', load=True)\n",
    "\n",
    "entity\n"
   ]
  },
  {
   "cell_type": "code",
   "execution_count": 10,
   "metadata": {},
   "outputs": [
    {
     "name": "stdout",
     "output_type": "stream",
     "text": [
      "city and commune in Italy\n",
      "45.0778731 7.7733388\n",
      "45.1402175 7.6642049\n",
      "45.1402175 7.6443915\n",
      "45.0418278 7.5778348\n"
     ]
    }
   ],
   "source": [
    "print(entity.description)\n",
    "\n",
    "easternpoint_prop = client.get('P1334')\n",
    "\n",
    "easternpoint = entity[easternpoint_prop]\n",
    "\n",
    "e_coord = [easternpoint.longitude, easternpoint.latitude]\n",
    "\n",
    "print(easternpoint.latitude, easternpoint.longitude)\n",
    "\n",
    "northernpoint_prop = client.get('P1332')\n",
    "\n",
    "northernpoint = entity[northernpoint_prop]\n",
    "\n",
    "n_coord = [northernpoint.longitude, northernpoint.latitude]\n",
    "\n",
    "print(northernpoint.latitude, northernpoint.longitude)\n",
    "\n",
    "southernpoint_prop = client.get('P1333')\n",
    "\n",
    "southernpoint = entity[southernpoint_prop]\n",
    "\n",
    "s_coord = [southernpoint.longitude, southernpoint.latitude]\n",
    "\n",
    "print(northernpoint.latitude, southernpoint.longitude)\n",
    "\n",
    "westernpoint_prop = client.get('P1335')\n",
    "\n",
    "westernpoint = entity[westernpoint_prop]\n",
    "\n",
    "w_coord = [westernpoint.longitude, westernpoint.latitude]\n",
    "\n",
    "print(westernpoint.latitude, westernpoint.longitude)\n",
    "\n",
    "\n",
    "\n",
    "\n"
   ]
  },
  {
   "cell_type": "code",
   "execution_count": 11,
   "metadata": {},
   "outputs": [],
   "source": [
    "# creazione del geojson \n",
    "\n",
    "import geojson\n",
    "from geojson import Feature, Point, FeatureCollection\n",
    "\n",
    "city = {\n",
    "    \"type\": \"Polygon\", \n",
    "    \"coordinates\": [\n",
    "        [e_coord, n_coord, w_coord, s_coord, e_coord]\n",
    "    ]\n",
    "}\n",
    "\n",
    "feature = Feature(geometry=city, properties={\"name\": \"turin\"})\n",
    "\n",
    "with open ('turin.geojson', 'w', encoding='utf-8') as f:\n",
    "    geojson.dump(feature, f, ensure_ascii=False, indent=4)\n",
    "\n",
    "\n"
   ]
  },
  {
   "cell_type": "code",
   "execution_count": 16,
   "metadata": {},
   "outputs": [
    {
     "name": "stdout",
     "output_type": "stream",
     "text": [
      "{'searchinfo': {'search': 'Torino'}, 'search': [{'id': 'Q495', 'title': 'Q495', 'pageid': 750, 'display': {'label': {'value': 'Turin', 'language': 'en'}, 'description': {'value': 'city and commune in Italy', 'language': 'en'}}, 'repository': 'wikidata', 'url': '//www.wikidata.org/wiki/Q495', 'concepturi': 'http://www.wikidata.org/entity/Q495', 'label': 'Turin', 'description': 'city and commune in Italy', 'match': {'type': 'label', 'language': 'it', 'text': 'Torino'}, 'aliases': ['Torino']}, {'id': 'Q2768', 'title': 'Q2768', 'pageid': 3749, 'display': {'label': {'value': 'Torino F.C.', 'language': 'en'}, 'description': {'value': 'Italian football club based in Turin, Piedmont', 'language': 'en'}}, 'repository': 'wikidata', 'url': '//www.wikidata.org/wiki/Q2768', 'concepturi': 'http://www.wikidata.org/entity/Q2768', 'label': 'Torino F.C.', 'description': 'Italian football club based in Turin, Piedmont', 'match': {'type': 'label', 'language': 'it', 'text': 'Torino FC'}, 'aliases': ['Torino FC']}, {'id': 'Q9672', 'title': 'Q9672', 'pageid': 11066, 'display': {'label': {'value': '2006 Winter Olympics', 'language': 'en'}, 'description': {'value': '20th edition of Winter Olympics, held in Turin (Italy) in 2006', 'language': 'en'}}, 'repository': 'wikidata', 'url': '//www.wikidata.org/wiki/Q9672', 'concepturi': 'http://www.wikidata.org/entity/Q9672', 'label': '2006 Winter Olympics', 'description': '20th edition of Winter Olympics, held in Turin (Italy) in 2006', 'match': {'type': 'alias', 'language': 'it', 'text': 'Torino 2006'}, 'aliases': ['Torino 2006']}, {'id': 'Q28800786', 'title': 'Q28800786', 'pageid': 30459541, 'display': {'label': {'value': 'Torino', 'language': 'en'}, 'description': {'value': 'family name', 'language': 'en'}}, 'repository': 'wikidata', 'url': '//www.wikidata.org/wiki/Q28800786', 'concepturi': 'http://www.wikidata.org/entity/Q28800786', 'label': 'Torino', 'description': 'family name', 'match': {'type': 'label', 'language': 'it', 'text': 'Torino'}}, {'id': 'Q18439742', 'title': 'Q18439742', 'pageid': 19973671, 'display': {'label': {'value': 'Torino', 'language': 'en'}, 'description': {'value': 'human settlement in Ferrara, Italy', 'language': 'en'}}, 'repository': 'wikidata', 'url': '//www.wikidata.org/wiki/Q18439742', 'concepturi': 'http://www.wikidata.org/entity/Q18439742', 'label': 'Torino', 'description': 'human settlement in Ferrara, Italy', 'match': {'type': 'label', 'language': 'it', 'text': 'Torino'}}, {'id': 'Q5397259', 'title': 'Q5397259', 'pageid': 5161547, 'display': {'label': {'value': 'Far Arden', 'language': 'en'}}, 'repository': 'wikidata', 'url': '//www.wikidata.org/wiki/Q5397259', 'concepturi': 'http://www.wikidata.org/entity/Q5397259', 'label': 'Far Arden', 'match': {'type': 'label', 'language': 'it', 'text': 'Torino'}, 'aliases': ['Torino']}, {'id': 'Q2843666', 'title': 'Q2843666', 'pageid': 2723478, 'display': {'label': {'value': 'Victorino López', 'language': 'en'}, 'description': {'value': 'Brazilian association football player (1949-2013)', 'language': 'en'}}, 'repository': 'wikidata', 'url': '//www.wikidata.org/wiki/Q2843666', 'concepturi': 'http://www.wikidata.org/entity/Q2843666', 'label': 'Victorino López', 'description': 'Brazilian association football player (1949-2013)', 'match': {'type': 'alias', 'language': 'it', 'text': 'Torino'}, 'aliases': ['Torino']}], 'search-continue': 7, 'success': 1}\n"
     ]
    }
   ],
   "source": [
    "# wikimedia api\n",
    "import requests\n",
    "\n",
    "session = requests.Session()\n",
    "url_api = \"https://wikidata.org/w/api.php\"\n",
    "params = {\n",
    "    \"action\": \"wbsearchentities\",\n",
    "    \"search\": \"Torino\",\n",
    "    \"language\": \"it\",\n",
    "    \"format\": \"json\"\n",
    "}\n",
    "\n",
    "response = session.get(url=url_api, params=params)\n",
    "\n",
    "print(response.json())"
   ]
  }
 ],
 "metadata": {
  "kernelspec": {
   "display_name": "Python 3.9.9 64-bit",
   "language": "python",
   "name": "python3"
  },
  "language_info": {
   "codemirror_mode": {
    "name": "ipython",
    "version": 3
   },
   "file_extension": ".py",
   "mimetype": "text/x-python",
   "name": "python",
   "nbconvert_exporter": "python",
   "pygments_lexer": "ipython3",
   "version": "3.9.9 (tags/v3.9.9:ccb0e6a, Nov 15 2021, 18:08:50) [MSC v.1929 64 bit (AMD64)]"
  },
  "orig_nbformat": 4,
  "vscode": {
   "interpreter": {
    "hash": "17f6057f19fd601e680b310ee2ebe0fee3e78679207250b2f4d8f20eb0597a02"
   }
  }
 },
 "nbformat": 4,
 "nbformat_minor": 2
}
