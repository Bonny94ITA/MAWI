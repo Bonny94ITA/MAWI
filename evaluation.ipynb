{
 "cells": [
  {
   "attachments": {},
   "cell_type": "markdown",
   "metadata": {},
   "source": [
    "## Metrics about the system"
   ]
  },
  {
   "cell_type": "code",
   "execution_count": null,
   "metadata": {},
   "outputs": [],
   "source": [
    "import pandas as pd"
   ]
  },
  {
   "cell_type": "code",
   "execution_count": 1,
   "metadata": {},
   "outputs": [],
   "source": [
    "\n",
    "path_articles1_names = f'input/articles1/articles1_names.txt'\n",
    "\n",
    "titles_articles_it = []\n",
    "titles_articles_en = []\n",
    "\n",
    "with open(path_articles1_names, 'r', encoding='utf-8') as f:\n",
    "    f.readline()\n",
    "    line = f.readline().strip()\n",
    "    while line != \"#EN\":\n",
    "        titles_articles_it.append(line)\n",
    "        line = f.readline().strip()\n",
    "    \n",
    "    line = f.readline().strip()\n",
    "    while line:\n",
    "        titles_articles_en.append(line)\n",
    "        line = f.readline().strip()"
   ]
  },
  {
   "cell_type": "code",
   "execution_count": 2,
   "metadata": {},
   "outputs": [],
   "source": [
    "def read_file(path: str): \n",
    "    with open(path, 'r', encoding='utf-8') as f:\n",
    "        lines = f.readlines()\n",
    "    \n",
    "    return lines\n",
    "\n",
    "def rate_results_links(results: list[str], links: list[str]): \n",
    "    \"\"\" Rate the results of the links.\n",
    "    \n",
    "    Args:\n",
    "        results: list of results\n",
    "        links: list of links\n",
    "    Returns:\n",
    "        rate: rate of the results\n",
    "    \"\"\"\n",
    "    rate = 0\n",
    "    for result in results:\n",
    "        if result not in links:\n",
    "            rate += 1\n",
    "    \n",
    "    return rate/len(results)"
   ]
  },
  {
   "cell_type": "code",
   "execution_count": null,
   "metadata": {},
   "outputs": [],
   "source": [
    "# Metrics ITA\n",
    "\n",
    "path_results = f'results/extraction_entities_snippet/articles1/it/'\n",
    "path_links = f'input/articles1/it/links/'\n",
    "\n",
    "rates_links = []\n",
    "for title in titles_articles_it:\n",
    "    results = read_file(path_results + title + '/entities_founded.txt')\n",
    "    links = read_file(path_links + title + '_links.txt')\n",
    "\n",
    "    rate = rate_results_links(results, links)\n",
    "\n",
    "    rates_links.append(rate)\n",
    "\n",
    "\n",
    "\n",
    "df = pd.DataFrame({'rate': rates_links}, index=titles_articles_it)\n",
    "\n",
    "\n"
   ]
  },
  {
   "cell_type": "code",
   "execution_count": null,
   "metadata": {},
   "outputs": [],
   "source": [
    "# Metrics EN\n",
    "\n",
    "path_results = f'results/extraction_entities_snippet/articles1/en/'\n",
    "path_links = f'input/articles1/en/links/'\n",
    "\n",
    "rates_links = []\n",
    "\n",
    "for title in titles_articles_en:\n",
    "    results = read_file(path_results + title + '/entities_founded.txt')\n",
    "    links = read_file(path_links + title + '_links.txt')\n",
    "\n",
    "    rate = rate_results_links(results, links)\n",
    "\n",
    "    rates_links.append(rate)\n",
    "\n",
    "\n",
    "df = pd.DataFrame({'rate': rates_links}, index=titles_articles_it)\n"
   ]
  }
 ],
 "metadata": {
  "kernelspec": {
   "display_name": "Python 3",
   "language": "python",
   "name": "python3"
  },
  "language_info": {
   "codemirror_mode": {
    "name": "ipython",
    "version": 3
   },
   "file_extension": ".py",
   "mimetype": "text/x-python",
   "name": "python",
   "nbconvert_exporter": "python",
   "pygments_lexer": "ipython3",
   "version": "3.9.9"
  },
  "orig_nbformat": 4
 },
 "nbformat": 4,
 "nbformat_minor": 2
}
